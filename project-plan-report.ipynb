{
 "cells": [
  {
   "cell_type": "code",
   "execution_count": 32,
   "metadata": {},
   "outputs": [],
   "source": [
    "# libraries\n",
    "import numpy as np\n",
    "import pandas as pd\n",
    "import altair as alt\n",
    "from sklearn.decomposition import PCA\n",
    "\n",
    "# warnings\n",
    "import warnings\n",
    "warnings.simplefilter(action='ignore', category=FutureWarning)\n",
    "\n",
    "# display settings\n",
    "pd.options.display.max_columns = None"
   ]
  },
  {
   "cell_type": "markdown",
   "metadata": {},
   "source": [
    "# PSTAT 100 Project plan\n",
    "\n",
    "This is a guide to preparing your project plan. It functions both as a guide to the work you'll need to do and as a guide to preparing the deliverable. You can use it as a template to draft the plan report; if so, **please remove the text explanations and instructions in each section so that it reads as a coherent and continuous document**.\n",
    "\n",
    "While you may find it useful initially to follow the outline given, you do not need to adhere to it exactly -- you're free to organize your submission in the way that seems most natural to you. However, please do keep the high-level sections, so that your report includes the following headers:\n",
    "\n",
    "0. Background\n",
    "1. Data description\n",
    "2. Initial exporations\n",
    "3. Planned work\n",
    "\n",
    "Your report does not need to be long. It should be about 2-4 pages, and might not be much longer than this template once you replace the guiding text with your own work."
   ]
  },
  {
   "cell_type": "markdown",
   "metadata": {},
   "source": [
    "## Group information\n",
    "\n",
    "**Group members**:\n",
    "\n",
    "**Contributions**:\n",
    "1. Member 1 studied the data documentation and prepared the data description.\n",
    "2. Member 2 worked on tidying the dataset.\n",
    "3. Member 3 ..."
   ]
  },
  {
   "cell_type": "markdown",
   "metadata": {},
   "source": [
    "---\n",
    "## 0. Background\n",
    "\n",
    "This section should introduce your reader to the general topic you're engaging with in your project and explain any specialized knowledge that they may need to understand your dataset and why it's interesting. It doesn't need to be long, but should touch on the following points:\n",
    "* Introduce the topic of your project.\n",
    "* What area or areas of study are you in dialogue with for your project?\n",
    "* What is your data about, broadly? \n",
    "* What is the motivation for collecting the kind of data you're working with, and what sorts of things could you potentially learn?\n",
    "\n",
    "You can look to the background sections in the homework assignments for examples. (There you can also see how to include images in your notebook.) The background sections of the homeworks are usually short and focused paragraphs intended to orient you to what you'll do in the assignment. They don't go into a lot of detail -- just enough to (hopefully) convince you that the data are interesting and explain any terminology or general information you may not know.\n",
    "\n",
    "You may find it useful to write up the data description first, think about what the reader should know before they peek at your dataset, and then come back to the background section. I often write the background sections of your assignments last, once I have a sense of what kind of information would be most useful going into the assignment."
   ]
  },
  {
   "cell_type": "markdown",
   "metadata": {},
   "source": [
    "*Start your draft here.*"
   ]
  },
  {
   "attachments": {},
   "cell_type": "markdown",
   "metadata": {},
   "source": [
    "---\n",
    "## 1. Data description"
   ]
  },
  {
   "attachments": {},
   "cell_type": "markdown",
   "metadata": {},
   "source": [
    "### Basic Information"
   ]
  },
  {
   "attachments": {},
   "cell_type": "markdown",
   "metadata": {},
   "source": [
    "The data is the percent of the population that resides within 1/2 mile of a major transit location (bus/rail/ferry stop) in four California regions, and whose waiting time is less than 15 minutes during peak commute hours. The data is stratified by 8 race/ethnicity groups and includes both geographic information and statistical reliability measurements.\n",
    "\n",
    "The data was collected by the California Department of Public Health, as part of the \"Health Communities Data and Indicators Project (HCI). The goal of the project was to evaluate how city plans and policies affect community health. The data includes 2012 Transit Stops from the San Diego and Southern California Association of Governments, as well as the Metropolitan Transportation Commission. It also includes 2008 Transit Stops from the Sacramento Council of Government and 2010 block-level population data from the U.S. Census Bureau. The data is updated decennially. The four California regions are defined as the following:\n",
    "* Southern California (SCAG): Imperial, Los Angeles, Orange, Riverside, San Bernardino, and Ventura \n",
    "* Sacramento (SACOG): Placer, Sacramento, and Yolo \n",
    "* Bay Area (MTC): Contra Costa, Marin, Napa, San Francisco, San Mateo, Santa Clara, Solano, Sonoma \n",
    "* San Diego County\n",
    "\n",
    "Data values were obtained using automated methods to download information from various public websites. One important data set was from the 2010-2012 California Household Travel Survey. Multiple data collection methods were used in this survey, including computer-assisted telephone interviews and online/mail surveys. To identify census blocks inside 1/2 mile of the transit stops, geospatial software was used. In order to compile the data into one data set, the census blocks from the 2010 U.S. Census were merged with the blocks from the transit data, and population counts were aggregated by census tract, cities/towns, county, and region. The data was processed into Excel files with standard formats. \n",
    "\n",
    "The population is adults aged 18 years and over, who reside in the four California regions. The sampling frame includes adults in these four regions, with access to telephone or mail services. The sampling mechanism for the respective year (2008 or 2012) is a probability sample because the surveys downloaded by the HCI project were sent to randomly selected adults However, the scope of inference has limitations. The data is from the year 2012 for the SCAG, MTC, and San Diego regions; while, 2008 for the SACOG region. Some transit stops and services may have changed during that time period. As well, the population data was collected from the 2010 U.S. Census, which is a different time period than the transit data (2008, 2012). Therefore, some variation may exist if demographics changed."
   ]
  },
  {
   "attachments": {},
   "cell_type": "markdown",
   "metadata": {},
   "source": [
    "### Data semantics and structure\n",
    "\n",
    "Name | Variable description | Type | Units of measurement\n",
    "---|---|---|---\n",
    "year | year when data was reported | Numeric | Calendar year \n",
    "race_eth_name | name of the different races/ethnicties ('AfricanAm', 'AIAN', 'Asian', 'Latino', 'Multiple', 'NHOPI', 'Other', 'Total', 'White')| Object | Name\n",
    "geotype | describes the level of geography for data in that row ('RE'=region, 'CT'=census tract, 'PL'=place/town/city, 'CO'=county)  | Object | Name\n",
    "geoname | name of the city/town | Object | Name \n",
    "county_name | name of the county | Object | Name\n",
    "region_name | name of the region ('Sacramento Area', 'Bay Area', 'San Diego', 'Southern California') | Object | Name\n",
    "pop_trans_acc | number of residents that live within 1/2 mile of public transportation | Numeric | Integer\n",
    "pop2010 | total number of residents that reside in that county | Numeric | Integer\n",
    "p_trans_acc | the percent of residents that live within 1/2 mile of public transportation | Numeric | Float\n",
    "LL_95CI | lower limit of the 95th confidence interval for p_trans_acc | Numeric | Float\n",
    "UL_95CI | upper limit of the 95th confidence interval for p_trans_acc | Numeric| Float\n",
    "se | standard errror | Numeric| Float\n",
    "rse | relative standard error | Numeric| Float"
   ]
  },
  {
   "attachments": {},
   "cell_type": "markdown",
   "metadata": {},
   "source": [
    "### Data Overview"
   ]
  },
  {
   "cell_type": "code",
   "execution_count": 33,
   "metadata": {},
   "outputs": [
    {
     "data": {
      "text/html": [
       "<div>\n",
       "<style scoped>\n",
       "    .dataframe tbody tr th:only-of-type {\n",
       "        vertical-align: middle;\n",
       "    }\n",
       "\n",
       "    .dataframe tbody tr th {\n",
       "        vertical-align: top;\n",
       "    }\n",
       "\n",
       "    .dataframe thead th {\n",
       "        text-align: right;\n",
       "    }\n",
       "</style>\n",
       "<table border=\"1\" class=\"dataframe\">\n",
       "  <thead>\n",
       "    <tr style=\"text-align: right;\">\n",
       "      <th></th>\n",
       "      <th>year</th>\n",
       "      <th>race_eth_code</th>\n",
       "      <th>race_eth_name</th>\n",
       "      <th>geotype</th>\n",
       "      <th>geotypevalue</th>\n",
       "      <th>geoname</th>\n",
       "      <th>county_name</th>\n",
       "      <th>county_fips</th>\n",
       "      <th>region_name</th>\n",
       "      <th>region_code</th>\n",
       "      <th>pop_trans_acc</th>\n",
       "      <th>pop2010</th>\n",
       "      <th>p_trans_acc</th>\n",
       "      <th>LL_95CI</th>\n",
       "      <th>UL_95CI</th>\n",
       "      <th>se</th>\n",
       "      <th>rse</th>\n",
       "    </tr>\n",
       "  </thead>\n",
       "  <tbody>\n",
       "    <tr>\n",
       "      <th>0</th>\n",
       "      <td>2008</td>\n",
       "      <td>3</td>\n",
       "      <td>AfricanAm</td>\n",
       "      <td>CO</td>\n",
       "      <td>6061</td>\n",
       "      <td>Placer</td>\n",
       "      <td>Placer</td>\n",
       "      <td>6061</td>\n",
       "      <td>Sacramento Area</td>\n",
       "      <td>8</td>\n",
       "      <td>55</td>\n",
       "      <td>4427</td>\n",
       "      <td>0.012424</td>\n",
       "      <td>0.009161</td>\n",
       "      <td>0.015687</td>\n",
       "      <td>0.001665</td>\n",
       "      <td>13.399974</td>\n",
       "    </tr>\n",
       "    <tr>\n",
       "      <th>1</th>\n",
       "      <td>2008</td>\n",
       "      <td>1</td>\n",
       "      <td>AIAN</td>\n",
       "      <td>CO</td>\n",
       "      <td>6061</td>\n",
       "      <td>Placer</td>\n",
       "      <td>Placer</td>\n",
       "      <td>6061</td>\n",
       "      <td>Sacramento Area</td>\n",
       "      <td>8</td>\n",
       "      <td>51</td>\n",
       "      <td>2080</td>\n",
       "      <td>0.024519</td>\n",
       "      <td>0.017873</td>\n",
       "      <td>0.031166</td>\n",
       "      <td>0.003391</td>\n",
       "      <td>13.830066</td>\n",
       "    </tr>\n",
       "    <tr>\n",
       "      <th>2</th>\n",
       "      <td>2008</td>\n",
       "      <td>2</td>\n",
       "      <td>Asian</td>\n",
       "      <td>CO</td>\n",
       "      <td>6061</td>\n",
       "      <td>Placer</td>\n",
       "      <td>Placer</td>\n",
       "      <td>6061</td>\n",
       "      <td>Sacramento Area</td>\n",
       "      <td>8</td>\n",
       "      <td>117</td>\n",
       "      <td>19963</td>\n",
       "      <td>0.005861</td>\n",
       "      <td>0.004802</td>\n",
       "      <td>0.006920</td>\n",
       "      <td>0.000540</td>\n",
       "      <td>9.217872</td>\n",
       "    </tr>\n",
       "    <tr>\n",
       "      <th>3</th>\n",
       "      <td>2008</td>\n",
       "      <td>4</td>\n",
       "      <td>Latino</td>\n",
       "      <td>CO</td>\n",
       "      <td>6061</td>\n",
       "      <td>Placer</td>\n",
       "      <td>Placer</td>\n",
       "      <td>6061</td>\n",
       "      <td>Sacramento Area</td>\n",
       "      <td>8</td>\n",
       "      <td>1835</td>\n",
       "      <td>44710</td>\n",
       "      <td>0.041042</td>\n",
       "      <td>0.039203</td>\n",
       "      <td>0.042881</td>\n",
       "      <td>0.000938</td>\n",
       "      <td>2.286029</td>\n",
       "    </tr>\n",
       "    <tr>\n",
       "      <th>4</th>\n",
       "      <td>2008</td>\n",
       "      <td>7</td>\n",
       "      <td>Multiple</td>\n",
       "      <td>CO</td>\n",
       "      <td>6061</td>\n",
       "      <td>Placer</td>\n",
       "      <td>Placer</td>\n",
       "      <td>6061</td>\n",
       "      <td>Sacramento Area</td>\n",
       "      <td>8</td>\n",
       "      <td>241</td>\n",
       "      <td>10658</td>\n",
       "      <td>0.022612</td>\n",
       "      <td>0.019790</td>\n",
       "      <td>0.025435</td>\n",
       "      <td>0.001440</td>\n",
       "      <td>6.368321</td>\n",
       "    </tr>\n",
       "  </tbody>\n",
       "</table>\n",
       "</div>"
      ],
      "text/plain": [
       "   year  race_eth_code race_eth_name geotype  geotypevalue geoname  \\\n",
       "0  2008              3     AfricanAm      CO          6061  Placer   \n",
       "1  2008              1          AIAN      CO          6061  Placer   \n",
       "2  2008              2         Asian      CO          6061  Placer   \n",
       "3  2008              4        Latino      CO          6061  Placer   \n",
       "4  2008              7      Multiple      CO          6061  Placer   \n",
       "\n",
       "  county_name  county_fips      region_name  region_code  pop_trans_acc  \\\n",
       "0      Placer         6061  Sacramento Area            8             55   \n",
       "1      Placer         6061  Sacramento Area            8             51   \n",
       "2      Placer         6061  Sacramento Area            8            117   \n",
       "3      Placer         6061  Sacramento Area            8           1835   \n",
       "4      Placer         6061  Sacramento Area            8            241   \n",
       "\n",
       "   pop2010  p_trans_acc   LL_95CI   UL_95CI        se        rse  \n",
       "0     4427     0.012424  0.009161  0.015687  0.001665  13.399974  \n",
       "1     2080     0.024519  0.017873  0.031166  0.003391  13.830066  \n",
       "2    19963     0.005861  0.004802  0.006920  0.000540   9.217872  \n",
       "3    44710     0.041042  0.039203  0.042881  0.000938   2.286029  \n",
       "4    10658     0.022612  0.019790  0.025435  0.001440   6.368321  "
      ]
     },
     "execution_count": 33,
     "metadata": {},
     "output_type": "execute_result"
    }
   ],
   "source": [
    "# load tidied data and print rows\n",
    "data = pd.read_csv(\n",
    "    'tidy-data', \n",
    "    dtype = {'pop_trans_acc':'Int64',\n",
    "             'county_fips': 'Int64'},\n",
    "    index_col = 0)\n",
    "\n",
    "data.head()"
   ]
  },
  {
   "cell_type": "markdown",
   "metadata": {},
   "source": [
    "---\n",
    "## 2. Initial explorations\n",
    "\n",
    "At this stage, you may spend most of your effort on the computing side tidying up the data. You're not expected to complete a thorough exploratory analysis, and if your dataset was especially messy to start with, you may not even begin your exploratory analysis by the time you prepare this report. You have the option to leave exploration for the next stage of work and simply report basic properties of the dataset, but you should at minimum address the items in the 'basic properties' section below."
   ]
  },
  {
   "cell_type": "markdown",
   "metadata": {},
   "source": [
    "### Basic properties of the dataset\n",
    "\n",
    "Help the reader get acquainted with your dataset on a simple level by identifying characteristics of the dataset and variable summaries. Some amount of code is fine here, but try to use code cells sparingly.\n",
    "\n",
    "**Dimensions**: state the dimensions of the data (in tidy format, of course).\n",
    "\n",
    "**Missing values**: Are there missing values? If so, why are they missing?\n",
    "\n",
    "**Variable summaries**: Provide simple variable summaries for the most important variables in your dataset. Preferably, you'll do this for all variables, but if you have a large number, you might need to prioritize and focus on the ones most of interest. What exactly you do is a little case-specific, but think of things like means and variances, min/max, number of levels and observation counts for categorical variables, etc."
   ]
  },
  {
   "cell_type": "markdown",
   "metadata": {},
   "source": [
    "*Start your draft here.*"
   ]
  },
  {
   "attachments": {},
   "cell_type": "markdown",
   "metadata": {},
   "source": [
    "### Code:"
   ]
  },
  {
   "attachments": {},
   "cell_type": "markdown",
   "metadata": {},
   "source": [
    "**Dimensions**"
   ]
  },
  {
   "cell_type": "code",
   "execution_count": 34,
   "metadata": {},
   "outputs": [
    {
     "data": {
      "text/plain": [
       "(66006, 17)"
      ]
     },
     "execution_count": 34,
     "metadata": {},
     "output_type": "execute_result"
    }
   ],
   "source": [
    "data.shape"
   ]
  },
  {
   "attachments": {},
   "cell_type": "markdown",
   "metadata": {},
   "source": [
    "**Missing values**"
   ]
  },
  {
   "cell_type": "code",
   "execution_count": 35,
   "metadata": {},
   "outputs": [
    {
     "data": {
      "text/plain": [
       "year                 0\n",
       "race_eth_code        0\n",
       "race_eth_name        0\n",
       "geotype              0\n",
       "geotypevalue         0\n",
       "geoname             54\n",
       "county_name         63\n",
       "county_fips         63\n",
       "region_name          0\n",
       "region_code          0\n",
       "pop_trans_acc     1182\n",
       "pop2010              0\n",
       "p_trans_acc       1557\n",
       "LL_95CI           1182\n",
       "UL_95CI           1557\n",
       "se                1182\n",
       "rse              14700\n",
       "dtype: int64"
      ]
     },
     "execution_count": 35,
     "metadata": {},
     "output_type": "execute_result"
    }
   ],
   "source": [
    "missing_values = data.isna().sum()\n",
    "missing_values"
   ]
  },
  {
   "attachments": {},
   "cell_type": "markdown",
   "metadata": {},
   "source": [
    "**Variable summaries**"
   ]
  },
  {
   "cell_type": "markdown",
   "metadata": {},
   "source": [
    "### Exploratory analysis\n",
    "\n",
    "If you were lucky and your dataset was neat, you should aim to include a few exploratory plots or tables here -- they don't need to be polished at this stage, but you should select plots that are informative (rather than including all plots you may have looked at). \n",
    "\n",
    "If you do include exploratory graphics or tables, please explain in a sentence or two what each one shows. Try to include a minimum of code. Consider [saving your plots as images](https://altair-viz.github.io/user_guide/saving_charts.html#png-svg-and-pdf-format) and inputting images into markdown cells instead of generating them anew via code cells."
   ]
  },
  {
   "cell_type": "markdown",
   "metadata": {},
   "source": [
    "---\n",
    "## 3. Planned work\n",
    "\n",
    "Here you should indicate your tentative ideas for your analysis. Don't worry, these aren't final -- you can always change your mind later or shift gears if they don't pan out. The objective is to have you start thinking ahead about what you'll do."
   ]
  },
  {
   "cell_type": "markdown",
   "metadata": {},
   "source": [
    "### Questions\n",
    "\n",
    "Please propose two focused questions that you plan to explore.\n",
    "\n",
    "1. *Question 1 here*\n",
    "2. *Question 2 here*"
   ]
  },
  {
   "cell_type": "markdown",
   "metadata": {},
   "source": [
    "### Proposed approaches\n",
    "\n",
    "For each question, please describe an idea or two about how you might approach the question.\n",
    "\n",
    "1. *Approach 1 here* \n",
    "2. *Approach 2 here*"
   ]
  },
  {
   "cell_type": "markdown",
   "metadata": {
    "tags": []
   },
   "source": [
    "---\n",
    "## Submission Checklist\n",
    "1. Save file to confirm all changes are on disk\n",
    "2. Run *Kernel > Restart & Run All* to execute all code from top to bottom\n",
    "3. Save file again to write any new output to disk\n",
    "4. Generate PDF and submit to Gradescope"
   ]
  }
 ],
 "metadata": {
  "kernelspec": {
   "display_name": "Python 3 (ipykernel)",
   "language": "python",
   "name": "python3"
  },
  "language_info": {
   "codemirror_mode": {
    "name": "ipython",
    "version": 3
   },
   "file_extension": ".py",
   "mimetype": "text/x-python",
   "name": "python",
   "nbconvert_exporter": "python",
   "pygments_lexer": "ipython3",
   "version": "3.8.15"
  }
 },
 "nbformat": 4,
 "nbformat_minor": 4
}
