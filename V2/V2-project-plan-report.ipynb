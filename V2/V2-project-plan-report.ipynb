{
 "cells": [
  {
   "cell_type": "code",
   "execution_count": 1,
   "metadata": {},
   "outputs": [],
   "source": [
    "# libraries\n",
    "import numpy as np\n",
    "import pandas as pd\n",
    "import altair as alt\n",
    "from sklearn.decomposition import PCA\n",
    "\n",
    "# warnings\n",
    "import warnings\n",
    "warnings.simplefilter(action='ignore', category=FutureWarning)\n",
    "\n",
    "# display settings\n",
    "pd.options.display.max_columns = None"
   ]
  },
  {
   "cell_type": "markdown",
   "metadata": {},
   "source": [
    "# PSTAT 100 Project plan\n",
    "\n",
    "This is a guide to preparing your project plan. It functions both as a guide to the work you'll need to do and as a guide to preparing the deliverable. You can use it as a template to draft the plan report; if so, **please remove the text explanations and instructions in each section so that it reads as a coherent and continuous document**.\n",
    "\n",
    "While you may find it useful initially to follow the outline given, you do not need to adhere to it exactly -- you're free to organize your submission in the way that seems most natural to you. However, please do keep the high-level sections, so that your report includes the following headers:\n",
    "\n",
    "0. Background\n",
    "1. Data description\n",
    "2. Initial exporations\n",
    "3. Planned work\n",
    "\n",
    "Your report does not need to be long. It should be about 2-4 pages, and might not be much longer than this template once you replace the guiding text with your own work."
   ]
  },
  {
   "cell_type": "markdown",
   "metadata": {},
   "source": [
    "## Group information\n",
    "\n",
    "**Group members**:\n",
    "\n",
    "**Contributions**:\n",
    "1. Member 1 studied the data documentation and prepared the data description.\n",
    "2. Member 2 worked on tidying the dataset.\n",
    "3. Member 3 ..."
   ]
  },
  {
   "cell_type": "markdown",
   "metadata": {},
   "source": [
    "---\n",
    "## 0. Background\n",
    "\n",
    "This section should introduce your reader to the general topic you're engaging with in your project and explain any specialized knowledge that they may need to understand your dataset and why it's interesting. It doesn't need to be long, but should touch on the following points:\n",
    "* Introduce the topic of your project.\n",
    "* What area or areas of study are you in dialogue with for your project?\n",
    "* What is your data about, broadly? \n",
    "* What is the motivation for collecting the kind of data you're working with, and what sorts of things could you potentially learn?\n",
    "\n",
    "You can look to the background sections in the homework assignments for examples. (There you can also see how to include images in your notebook.) The background sections of the homeworks are usually short and focused paragraphs intended to orient you to what you'll do in the assignment. They don't go into a lot of detail -- just enough to (hopefully) convince you that the data are interesting and explain any terminology or general information you may not know.\n",
    "\n",
    "You may find it useful to write up the data description first, think about what the reader should know before they peek at your dataset, and then come back to the background section. I often write the background sections of your assignments last, once I have a sense of what kind of information would be most useful going into the assignment."
   ]
  },
  {
   "cell_type": "markdown",
   "metadata": {},
   "source": [
    "*Start your draft here.*"
   ]
  },
  {
   "cell_type": "markdown",
   "metadata": {},
   "source": [
    "---\n",
    "## 1. Data description\n",
    "\n",
    "This section should introduce your dataset in detail. It should reflect your having gone through the collect/acquaint/tidy stages of the lifecycle. Below I've provided you with an outline. You do not need to adhere to this strictly -- in fact, it would be more natural to divide the items among a few short paragraphs -- but you should touch on each item in a format that suits your project."
   ]
  },
  {
   "cell_type": "markdown",
   "metadata": {},
   "source": [
    "### Basic information\n",
    "\n",
    "Help your reader understand what your data is, where it came from, and how it can be used. Provide the following.\n",
    "\n",
    "**General description**: provide a one- or two-sentence description of the data right at the beginning. For instance, \"The data are diatom counts sampled from evenly-spaced depths in a sediment core from the gulf of California.\" Nothing too complicated, just something to give your reader a sense of the 'what' right off the bat.\n",
    "\n",
    "**Source**: indicate where your data came from. Provide a verbal description -- who collected it as part of what project and where -- and either a citation or a hyperlink.\n",
    "\n",
    "**Collection methods**: How were the data values obtained? Provide a simple description of how measurements were taken (using scientific equipment? web scraping? surveys?).\n",
    "\n",
    "**Sampling design and scope of inference**: Indicate the relevant population. If identifiable from data documentation, state the sampling frame and sampling mechanism and indicate the scope of inference. If no information is available about the sampling design, indicate this instead, and discuss the extent to which having no scope of inference is a limitation for the particular topic you're investigating."
   ]
  },
  {
   "attachments": {},
   "cell_type": "markdown",
   "metadata": {},
   "source": [
    "**Source:** The data is the percent of the population in four California regions, residing within 1/2 mile of a major transit location. The associated counties, cities/towns, and census tracts are also included for each region*\n",
    "\n",
    "\n"
   ]
  },
  {
   "cell_type": "markdown",
   "metadata": {},
   "source": [
    "### Data semantics and structure\n",
    "\n",
    "**Units and observations**: State the observational units.\n",
    "\n",
    "**Variable descriptions**: Provide a table of variable descriptions. If your dataset is large and you'll only work with a subset of the total available variables, limit your attention to the variables that you'll work with. Here's a template you can work with:\n",
    "\n",
    "Name | Variable description | Type | Units of measurement\n",
    "---|---|---|---\n",
    "GCLASS | Graduating class | Numeric | Calendar year \n",
    "\n",
    "\n",
    "**Example rows**: Print a few example rows of your dataset in tidy format. Please don't include the codes you used to manipulate the raw data. Do that in a separate notebook and export the result to a .csv file -- `data.to_csv('tidy-data.csv')` -- to load directly into the cell below."
   ]
  },
  {
   "cell_type": "markdown",
   "metadata": {},
   "source": [
    "*Start your draft here.*"
   ]
  },
  {
   "cell_type": "code",
   "execution_count": 2,
   "metadata": {},
   "outputs": [
    {
     "data": {
      "text/html": [
       "<div>\n",
       "<style scoped>\n",
       "    .dataframe tbody tr th:only-of-type {\n",
       "        vertical-align: middle;\n",
       "    }\n",
       "\n",
       "    .dataframe tbody tr th {\n",
       "        vertical-align: top;\n",
       "    }\n",
       "\n",
       "    .dataframe thead th {\n",
       "        text-align: right;\n",
       "    }\n",
       "</style>\n",
       "<table border=\"1\" class=\"dataframe\">\n",
       "  <thead>\n",
       "    <tr style=\"text-align: right;\">\n",
       "      <th></th>\n",
       "      <th>year</th>\n",
       "      <th>race_eth_code</th>\n",
       "      <th>race_eth_name</th>\n",
       "      <th>geotype</th>\n",
       "      <th>geotypevalue</th>\n",
       "      <th>geoname</th>\n",
       "      <th>county_name</th>\n",
       "      <th>county_fips</th>\n",
       "      <th>region_name</th>\n",
       "      <th>region_code</th>\n",
       "      <th>pop_trans_acc</th>\n",
       "      <th>pop2010</th>\n",
       "      <th>p_trans_acc</th>\n",
       "      <th>LL_95CI</th>\n",
       "      <th>UL_95CI</th>\n",
       "      <th>se</th>\n",
       "      <th>rse</th>\n",
       "      <th>SAC_decile</th>\n",
       "      <th>SAC_RR</th>\n",
       "      <th>MTC_decile</th>\n",
       "      <th>MTC_RR</th>\n",
       "      <th>SD_decile</th>\n",
       "      <th>SD_RR</th>\n",
       "      <th>SC_decile</th>\n",
       "      <th>SC_RR</th>\n",
       "    </tr>\n",
       "  </thead>\n",
       "  <tbody>\n",
       "    <tr>\n",
       "      <th>0</th>\n",
       "      <td>2008</td>\n",
       "      <td>3</td>\n",
       "      <td>AfricanAm</td>\n",
       "      <td>CO</td>\n",
       "      <td>6061</td>\n",
       "      <td>Placer</td>\n",
       "      <td>Placer</td>\n",
       "      <td>6061</td>\n",
       "      <td>Sacramento Area</td>\n",
       "      <td>8</td>\n",
       "      <td>55</td>\n",
       "      <td>4427</td>\n",
       "      <td>0.012424</td>\n",
       "      <td>0.009161</td>\n",
       "      <td>0.015687</td>\n",
       "      <td>0.001665</td>\n",
       "      <td>13.399974</td>\n",
       "      <td>NaN</td>\n",
       "      <td>0.070460</td>\n",
       "      <td>NaN</td>\n",
       "      <td>NaN</td>\n",
       "      <td>NaN</td>\n",
       "      <td>NaN</td>\n",
       "      <td>NaN</td>\n",
       "      <td>NaN</td>\n",
       "    </tr>\n",
       "    <tr>\n",
       "      <th>1</th>\n",
       "      <td>2008</td>\n",
       "      <td>1</td>\n",
       "      <td>AIAN</td>\n",
       "      <td>CO</td>\n",
       "      <td>6061</td>\n",
       "      <td>Placer</td>\n",
       "      <td>Placer</td>\n",
       "      <td>6061</td>\n",
       "      <td>Sacramento Area</td>\n",
       "      <td>8</td>\n",
       "      <td>51</td>\n",
       "      <td>2080</td>\n",
       "      <td>0.024519</td>\n",
       "      <td>0.017873</td>\n",
       "      <td>0.031166</td>\n",
       "      <td>0.003391</td>\n",
       "      <td>13.830066</td>\n",
       "      <td>NaN</td>\n",
       "      <td>0.139059</td>\n",
       "      <td>NaN</td>\n",
       "      <td>NaN</td>\n",
       "      <td>NaN</td>\n",
       "      <td>NaN</td>\n",
       "      <td>NaN</td>\n",
       "      <td>NaN</td>\n",
       "    </tr>\n",
       "    <tr>\n",
       "      <th>2</th>\n",
       "      <td>2008</td>\n",
       "      <td>2</td>\n",
       "      <td>Asian</td>\n",
       "      <td>CO</td>\n",
       "      <td>6061</td>\n",
       "      <td>Placer</td>\n",
       "      <td>Placer</td>\n",
       "      <td>6061</td>\n",
       "      <td>Sacramento Area</td>\n",
       "      <td>8</td>\n",
       "      <td>117</td>\n",
       "      <td>19963</td>\n",
       "      <td>0.005861</td>\n",
       "      <td>0.004802</td>\n",
       "      <td>0.006920</td>\n",
       "      <td>0.000540</td>\n",
       "      <td>9.217872</td>\n",
       "      <td>NaN</td>\n",
       "      <td>0.033239</td>\n",
       "      <td>NaN</td>\n",
       "      <td>NaN</td>\n",
       "      <td>NaN</td>\n",
       "      <td>NaN</td>\n",
       "      <td>NaN</td>\n",
       "      <td>NaN</td>\n",
       "    </tr>\n",
       "    <tr>\n",
       "      <th>3</th>\n",
       "      <td>2008</td>\n",
       "      <td>4</td>\n",
       "      <td>Latino</td>\n",
       "      <td>CO</td>\n",
       "      <td>6061</td>\n",
       "      <td>Placer</td>\n",
       "      <td>Placer</td>\n",
       "      <td>6061</td>\n",
       "      <td>Sacramento Area</td>\n",
       "      <td>8</td>\n",
       "      <td>1835</td>\n",
       "      <td>44710</td>\n",
       "      <td>0.041042</td>\n",
       "      <td>0.039203</td>\n",
       "      <td>0.042881</td>\n",
       "      <td>0.000938</td>\n",
       "      <td>2.286029</td>\n",
       "      <td>NaN</td>\n",
       "      <td>0.232768</td>\n",
       "      <td>NaN</td>\n",
       "      <td>NaN</td>\n",
       "      <td>NaN</td>\n",
       "      <td>NaN</td>\n",
       "      <td>NaN</td>\n",
       "      <td>NaN</td>\n",
       "    </tr>\n",
       "    <tr>\n",
       "      <th>4</th>\n",
       "      <td>2008</td>\n",
       "      <td>7</td>\n",
       "      <td>Multiple</td>\n",
       "      <td>CO</td>\n",
       "      <td>6061</td>\n",
       "      <td>Placer</td>\n",
       "      <td>Placer</td>\n",
       "      <td>6061</td>\n",
       "      <td>Sacramento Area</td>\n",
       "      <td>8</td>\n",
       "      <td>241</td>\n",
       "      <td>10658</td>\n",
       "      <td>0.022612</td>\n",
       "      <td>0.019790</td>\n",
       "      <td>0.025435</td>\n",
       "      <td>0.001440</td>\n",
       "      <td>6.368321</td>\n",
       "      <td>NaN</td>\n",
       "      <td>0.128243</td>\n",
       "      <td>NaN</td>\n",
       "      <td>NaN</td>\n",
       "      <td>NaN</td>\n",
       "      <td>NaN</td>\n",
       "      <td>NaN</td>\n",
       "      <td>NaN</td>\n",
       "    </tr>\n",
       "  </tbody>\n",
       "</table>\n",
       "</div>"
      ],
      "text/plain": [
       "   year  race_eth_code race_eth_name geotype  geotypevalue geoname  \\\n",
       "0  2008              3     AfricanAm      CO          6061  Placer   \n",
       "1  2008              1          AIAN      CO          6061  Placer   \n",
       "2  2008              2         Asian      CO          6061  Placer   \n",
       "3  2008              4        Latino      CO          6061  Placer   \n",
       "4  2008              7      Multiple      CO          6061  Placer   \n",
       "\n",
       "  county_name  county_fips      region_name  region_code  pop_trans_acc  \\\n",
       "0      Placer         6061  Sacramento Area            8             55   \n",
       "1      Placer         6061  Sacramento Area            8             51   \n",
       "2      Placer         6061  Sacramento Area            8            117   \n",
       "3      Placer         6061  Sacramento Area            8           1835   \n",
       "4      Placer         6061  Sacramento Area            8            241   \n",
       "\n",
       "   pop2010  p_trans_acc   LL_95CI   UL_95CI        se        rse  SAC_decile  \\\n",
       "0     4427     0.012424  0.009161  0.015687  0.001665  13.399974         NaN   \n",
       "1     2080     0.024519  0.017873  0.031166  0.003391  13.830066         NaN   \n",
       "2    19963     0.005861  0.004802  0.006920  0.000540   9.217872         NaN   \n",
       "3    44710     0.041042  0.039203  0.042881  0.000938   2.286029         NaN   \n",
       "4    10658     0.022612  0.019790  0.025435  0.001440   6.368321         NaN   \n",
       "\n",
       "     SAC_RR  MTC_decile  MTC_RR  SD_decile  SD_RR  SC_decile  SC_RR  \n",
       "0  0.070460         NaN     NaN        NaN    NaN        NaN    NaN  \n",
       "1  0.139059         NaN     NaN        NaN    NaN        NaN    NaN  \n",
       "2  0.033239         NaN     NaN        NaN    NaN        NaN    NaN  \n",
       "3  0.232768         NaN     NaN        NaN    NaN        NaN    NaN  \n",
       "4  0.128243         NaN     NaN        NaN    NaN        NaN    NaN  "
      ]
     },
     "execution_count": 2,
     "metadata": {},
     "output_type": "execute_result"
    }
   ],
   "source": [
    "# load tidied data and print rows\n",
    "data = pd.read_csv(\n",
    "    'tidy-data', \n",
    "    dtype = {'pop_trans_acc':'Int64',\n",
    "             'county_fips': 'Int64'},\n",
    "    index_col = 0)\n",
    "\n",
    "data.head()"
   ]
  },
  {
   "cell_type": "markdown",
   "metadata": {},
   "source": [
    "---\n",
    "## 2. Initial explorations\n",
    "\n",
    "At this stage, you may spend most of your effort on the computing side tidying up the data. You're not expected to complete a thorough exploratory analysis, and if your dataset was especially messy to start with, you may not even begin your exploratory analysis by the time you prepare this report. You have the option to leave exploration for the next stage of work and simply report basic properties of the dataset, but you should at minimum address the items in the 'basic properties' section below."
   ]
  },
  {
   "cell_type": "markdown",
   "metadata": {},
   "source": [
    "### Basic properties of the dataset\n",
    "\n",
    "Help the reader get acquainted with your dataset on a simple level by identifying characteristics of the dataset and variable summaries. Some amount of code is fine here, but try to use code cells sparingly.\n",
    "\n",
    "**Dimensions**: state the dimensions of the data (in tidy format, of course).\n",
    "\n",
    "**Missing values**: Are there missing values? If so, why are they missing?\n",
    "\n",
    "**Variable summaries**: Provide simple variable summaries for the most important variables in your dataset. Preferably, you'll do this for all variables, but if you have a large number, you might need to prioritize and focus on the ones most of interest. What exactly you do is a little case-specific, but think of things like means and variances, min/max, number of levels and observation counts for categorical variables, etc."
   ]
  },
  {
   "cell_type": "markdown",
   "metadata": {},
   "source": [
    "*Start your draft here.*"
   ]
  },
  {
   "attachments": {},
   "cell_type": "markdown",
   "metadata": {},
   "source": [
    "### Code:"
   ]
  },
  {
   "attachments": {},
   "cell_type": "markdown",
   "metadata": {},
   "source": [
    "**Dimensions**"
   ]
  },
  {
   "cell_type": "code",
   "execution_count": 3,
   "metadata": {},
   "outputs": [
    {
     "data": {
      "text/plain": [
       "(66006, 25)"
      ]
     },
     "execution_count": 3,
     "metadata": {},
     "output_type": "execute_result"
    }
   ],
   "source": [
    "data.shape"
   ]
  },
  {
   "attachments": {},
   "cell_type": "markdown",
   "metadata": {},
   "source": [
    "**Missing values**"
   ]
  },
  {
   "cell_type": "code",
   "execution_count": 4,
   "metadata": {},
   "outputs": [
    {
     "data": {
      "text/plain": [
       "year                 0\n",
       "race_eth_code        0\n",
       "race_eth_name        0\n",
       "geotype              0\n",
       "geotypevalue         0\n",
       "geoname             54\n",
       "county_name         63\n",
       "county_fips         63\n",
       "region_name          0\n",
       "region_code          0\n",
       "pop_trans_acc     1182\n",
       "pop2010              0\n",
       "p_trans_acc       1557\n",
       "LL_95CI           1182\n",
       "UL_95CI           1557\n",
       "se                1182\n",
       "rse              14700\n",
       "SAC_decile       65493\n",
       "SAC_RR           61431\n",
       "MTC_decile       64205\n",
       "MTC_RR           49923\n",
       "SD_decile        65326\n",
       "SD_RR            59939\n",
       "SC_decile        61713\n",
       "SC_RR            28282\n",
       "dtype: int64"
      ]
     },
     "execution_count": 4,
     "metadata": {},
     "output_type": "execute_result"
    }
   ],
   "source": [
    "missing_values = data.isna().sum()\n",
    "missing_values"
   ]
  },
  {
   "attachments": {},
   "cell_type": "markdown",
   "metadata": {},
   "source": [
    "**Variable summaries**"
   ]
  },
  {
   "cell_type": "markdown",
   "metadata": {},
   "source": [
    "### Exploratory analysis\n",
    "\n",
    "If you were lucky and your dataset was neat, you should aim to include a few exploratory plots or tables here -- they don't need to be polished at this stage, but you should select plots that are informative (rather than including all plots you may have looked at). \n",
    "\n",
    "If you do include exploratory graphics or tables, please explain in a sentence or two what each one shows. Try to include a minimum of code. Consider [saving your plots as images](https://altair-viz.github.io/user_guide/saving_charts.html#png-svg-and-pdf-format) and inputting images into markdown cells instead of generating them anew via code cells."
   ]
  },
  {
   "cell_type": "markdown",
   "metadata": {},
   "source": [
    "---\n",
    "## 3. Planned work\n",
    "\n",
    "Here you should indicate your tentative ideas for your analysis. Don't worry, these aren't final -- you can always change your mind later or shift gears if they don't pan out. The objective is to have you start thinking ahead about what you'll do."
   ]
  },
  {
   "cell_type": "markdown",
   "metadata": {},
   "source": [
    "### Questions\n",
    "\n",
    "Please propose two focused questions that you plan to explore.\n",
    "\n",
    "1. *Question 1 here*\n",
    "2. *Question 2 here*"
   ]
  },
  {
   "cell_type": "markdown",
   "metadata": {},
   "source": [
    "### Proposed approaches\n",
    "\n",
    "For each question, please describe an idea or two about how you might approach the question.\n",
    "\n",
    "1. *Approach 1 here* \n",
    "2. *Approach 2 here*"
   ]
  },
  {
   "cell_type": "markdown",
   "metadata": {
    "tags": []
   },
   "source": [
    "---\n",
    "## Submission Checklist\n",
    "1. Save file to confirm all changes are on disk\n",
    "2. Run *Kernel > Restart & Run All* to execute all code from top to bottom\n",
    "3. Save file again to write any new output to disk\n",
    "4. Generate PDF and submit to Gradescope"
   ]
  }
 ],
 "metadata": {
  "kernelspec": {
   "display_name": "Python 3 (ipykernel)",
   "language": "python",
   "name": "python3"
  },
  "language_info": {
   "codemirror_mode": {
    "name": "ipython",
    "version": 3
   },
   "file_extension": ".py",
   "mimetype": "text/x-python",
   "name": "python",
   "nbconvert_exporter": "python",
   "pygments_lexer": "ipython3",
   "version": "3.8.15"
  }
 },
 "nbformat": 4,
 "nbformat_minor": 4
}
