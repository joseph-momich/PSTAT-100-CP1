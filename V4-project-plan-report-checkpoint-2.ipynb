{
 "cells": [
  {
   "cell_type": "code",
   "execution_count": 1,
   "metadata": {},
   "outputs": [],
   "source": [
    "# libraries\n",
    "import numpy as np\n",
    "import pandas as pd\n",
    "import altair as alt\n",
    "from sklearn.decomposition import PCA\n",
    "\n",
    "# warnings\n",
    "import warnings\n",
    "warnings.simplefilter(action='ignore', category=FutureWarning)\n",
    "\n",
    "# display settings\n",
    "pd.options.display.max_columns = None"
   ]
  },
  {
   "cell_type": "markdown",
   "metadata": {},
   "source": [
    "# PSTAT 100 Project plan\n",
    "\n",
    "This is a guide to preparing your project plan. It functions both as a guide to the work you'll need to do and as a guide to preparing the deliverable. You can use it as a template to draft the plan report; if so, **please remove the text explanations and instructions in each section so that it reads as a coherent and continuous document**.\n",
    "\n",
    "While you may find it useful initially to follow the outline given, you do not need to adhere to it exactly -- you're free to organize your submission in the way that seems most natural to you. However, please do keep the high-level sections, so that your report includes the following headers:\n",
    "\n",
    "0. Background\n",
    "1. Data description\n",
    "2. Initial exporations\n",
    "3. Planned work\n",
    "\n",
    "Your report does not need to be long. It should be about 2-4 pages, and might not be much longer than this template once you replace the guiding text with your own work."
   ]
  },
  {
   "cell_type": "markdown",
   "metadata": {},
   "source": [
    "## Group information\n",
    "\n",
    "**Group members**:\n",
    "\n",
    "**Contributions**:\n",
    "1. Member 1 studied the data documentation and prepared the data description.\n",
    "2. Member 2 worked on tidying the dataset.\n",
    "3. Member 3 worked on variable summaries and explanatory plots\n",
    "4. Member 4 worked on "
   ]
  },
  {
   "cell_type": "markdown",
   "metadata": {},
   "source": [
    "---\n",
    "## 0. Background\n",
    "\n",
    "California has a well-developed public transportation system that includes buses, trains, light rail, and subways. The state's largest public transportation agency is the Los Angeles County Metropolitan Transportation Authority (Metro), which serves the Los Angeles metropolitan area with an extensive network of bus and rail lines. Other major public transportation agencies in California include the San Francisco Municipal Transportation Agency (SFMTA) and the San Diego Metropolitan Transit System (MTS). In addition to these larger agencies, many smaller cities and towns throughout California have their own public transportation systems, which may include buses, shuttles, or other types of services. These systems often provide connections to regional or statewide transportation networks, making it possible for people to travel throughout the state using public transportation. While many areas have well-established public transportation systems, there may be gaps or limitations in service in some parts of the state, particularly in more rural or remote areas.\n",
    "\n",
    "The Walkable Distance to Public Transit dataset, available on data.ca.gov, provides information on the number of households in California that are within a certain distance of public transit stops. The data is based on estimates of walking distance from households to the nearest transit stop, as well as information on the types of transit services available at each stop. \n",
    "\n",
    "The dataset is organized by county, and includes information on the number and percentage of households within various walking distance ranges of transit stops. For example, the data might indicate how many households are within a 5-minute walk of a transit stop, as well as how many households are within a 10-minute or 15-minute walk.\n",
    "\n",
    "The dataset also provides information on the types of transit services available at each stop, including whether the stop serves buses, trains, or other modes of transportation. This information can be useful for understanding the accessibility of public transportation in different areas of the state, and for identifying opportunities to improve transit service or expand transit infrastructure.\n",
    "\n",
    "Overall, the Walkable Distance to Public Transit dataset is a valuable resource for policymakers, transportation planners, and researchers who are interested in understanding the availability and accessibility of public transportation in California."
   ]
  },
  {
   "cell_type": "markdown",
   "metadata": {},
   "source": [
    "---\n",
    "## 1. Data description"
   ]
  },
  {
   "cell_type": "markdown",
   "metadata": {},
   "source": [
    "### Basic Information"
   ]
  },
  {
   "cell_type": "markdown",
   "metadata": {},
   "source": [
    "The data is the percent of the population that resides within 1/2 mile of a major transit location (bus/rail/ferry stop) in four California regions, and whose waiting time is less than 15 minutes during peak commute hours. The data is stratified by 8 race/ethnicity groups and includes both geographic information and statistical reliability measurements.\n",
    "\n",
    "The data was collected by the California Department of Public Health, as part of the \"Health Communities Data and Indicators Project (HCI). The goal of the project was to evaluate how city plans and policies affect community health. The data includes 2012 Transit Stops from the San Diego and Southern California Association of Governments, as well as the Metropolitan Transportation Commission. It also includes 2008 Transit Stops from the Sacramento Council of Government and 2010 block-level population data from the U.S. Census Bureau. The data is updated decennially. The four California regions are defined as the following:\n",
    "* Southern California (SCAG): Imperial, Los Angeles, Orange, Riverside, San Bernardino, and Ventura \n",
    "* Sacramento (SACOG): Placer, Sacramento, and Yolo \n",
    "* Bay Area (MTC): Contra Costa, Marin, Napa, San Francisco, San Mateo, Santa Clara, Solano, Sonoma \n",
    "* San Diego County\n",
    "\n",
    "Data values were obtained using automated methods to download information from various public websites. One important data set was from the 2010-2012 California Household Travel Survey. Multiple data collection methods were used in this survey, including computer-assisted telephone interviews and online/mail surveys. To identify census blocks inside 1/2 mile of the transit stops, geospatial software was used. In order to compile the data into one data set, the census blocks from the 2010 U.S. Census were merged with the blocks from the transit data, and population counts were aggregated by census tract, cities/towns, county, and region. The data was processed into Excel files with standard formats. \n",
    "\n",
    "The population is adults aged 18 years and over, who reside in the four California regions. The sampling frame includes adults in these four regions, with access to telephone or mail services. The sampling mechanism for the respective year (2008 or 2012) is a probability sample because the surveys downloaded by the HCI project were sent to randomly selected adults However, the scope of inference has limitations. The data is from the year 2012 for the SCAG, MTC, and San Diego regions; while, 2008 for the SACOG region. Some transit stops and services may have changed during that time period. As well, the population data was collected from the 2010 U.S. Census, which is a different time period than the transit data (2008, 2012). Therefore, some variation may exist if demographics changed."
   ]
  },
  {
   "cell_type": "markdown",
   "metadata": {},
   "source": [
    "### Data semantics and structure\n",
    "\n",
    "Name | Variable description | Type | Units of measurement\n",
    "---|---|---|---\n",
    "year | year when data was reported | Numeric | Calendar year \n",
    "race_eth_name | name of the different races/ethnicties ('AfricanAm', 'AIAN', 'Asian', 'Latino', 'Multiple', 'NHOPI', 'Other', 'Total', 'White')| Object | Name\n",
    "geotype | describes the level of geography for data in that row ('RE'=region, 'CT'=census tract, 'PL'=place/town/city, 'CO'=county)  | Object | Name\n",
    "geoname | name of the city/town | Object | Name \n",
    "county_name | name of the county | Object | Name\n",
    "region_name | name of the region ('Sacramento Area', 'Bay Area', 'San Diego', 'Southern California') | Object | Name\n",
    "pop_trans_acc | number of residents that live within 1/2 mile of public transportation | Numeric | Integer\n",
    "pop2010 | total number of residents that reside in that county | Numeric | Integer\n",
    "p_trans_acc | the percent of residents that live within 1/2 mile of public transportation | Numeric | Float\n",
    "LL_95CI | lower limit of the 95th confidence interval for p_trans_acc | Numeric | Float\n",
    "UL_95CI | upper limit of the 95th confidence interval for p_trans_acc | Numeric| Float\n",
    "se | standard errror | Numeric| Float\n",
    "rse | relative standard error | Numeric| Float"
   ]
  },
  {
   "cell_type": "markdown",
   "metadata": {},
   "source": [
    "### Data Overview"
   ]
  },
  {
   "cell_type": "code",
   "execution_count": 2,
   "metadata": {},
   "outputs": [
    {
     "data": {
      "text/html": [
       "<div>\n",
       "<style scoped>\n",
       "    .dataframe tbody tr th:only-of-type {\n",
       "        vertical-align: middle;\n",
       "    }\n",
       "\n",
       "    .dataframe tbody tr th {\n",
       "        vertical-align: top;\n",
       "    }\n",
       "\n",
       "    .dataframe thead th {\n",
       "        text-align: right;\n",
       "    }\n",
       "</style>\n",
       "<table border=\"1\" class=\"dataframe\">\n",
       "  <thead>\n",
       "    <tr style=\"text-align: right;\">\n",
       "      <th></th>\n",
       "      <th>year</th>\n",
       "      <th>race_eth_code</th>\n",
       "      <th>race_eth_name</th>\n",
       "      <th>geotype</th>\n",
       "      <th>geotypevalue</th>\n",
       "      <th>geoname</th>\n",
       "      <th>county_name</th>\n",
       "      <th>county_fips</th>\n",
       "      <th>region_name</th>\n",
       "      <th>region_code</th>\n",
       "      <th>pop_trans_acc</th>\n",
       "      <th>pop2010</th>\n",
       "      <th>p_trans_acc</th>\n",
       "      <th>LL_95CI</th>\n",
       "      <th>UL_95CI</th>\n",
       "      <th>se</th>\n",
       "      <th>rse</th>\n",
       "    </tr>\n",
       "  </thead>\n",
       "  <tbody>\n",
       "    <tr>\n",
       "      <th>0</th>\n",
       "      <td>2008</td>\n",
       "      <td>3</td>\n",
       "      <td>AfricanAm</td>\n",
       "      <td>CO</td>\n",
       "      <td>6061</td>\n",
       "      <td>Placer</td>\n",
       "      <td>Placer</td>\n",
       "      <td>6061</td>\n",
       "      <td>Sacramento Area</td>\n",
       "      <td>8</td>\n",
       "      <td>55</td>\n",
       "      <td>4427</td>\n",
       "      <td>0.012424</td>\n",
       "      <td>0.009161</td>\n",
       "      <td>0.015687</td>\n",
       "      <td>0.001665</td>\n",
       "      <td>13.399974</td>\n",
       "    </tr>\n",
       "    <tr>\n",
       "      <th>1</th>\n",
       "      <td>2008</td>\n",
       "      <td>1</td>\n",
       "      <td>AIAN</td>\n",
       "      <td>CO</td>\n",
       "      <td>6061</td>\n",
       "      <td>Placer</td>\n",
       "      <td>Placer</td>\n",
       "      <td>6061</td>\n",
       "      <td>Sacramento Area</td>\n",
       "      <td>8</td>\n",
       "      <td>51</td>\n",
       "      <td>2080</td>\n",
       "      <td>0.024519</td>\n",
       "      <td>0.017873</td>\n",
       "      <td>0.031166</td>\n",
       "      <td>0.003391</td>\n",
       "      <td>13.830066</td>\n",
       "    </tr>\n",
       "    <tr>\n",
       "      <th>2</th>\n",
       "      <td>2008</td>\n",
       "      <td>2</td>\n",
       "      <td>Asian</td>\n",
       "      <td>CO</td>\n",
       "      <td>6061</td>\n",
       "      <td>Placer</td>\n",
       "      <td>Placer</td>\n",
       "      <td>6061</td>\n",
       "      <td>Sacramento Area</td>\n",
       "      <td>8</td>\n",
       "      <td>117</td>\n",
       "      <td>19963</td>\n",
       "      <td>0.005861</td>\n",
       "      <td>0.004802</td>\n",
       "      <td>0.006920</td>\n",
       "      <td>0.000540</td>\n",
       "      <td>9.217872</td>\n",
       "    </tr>\n",
       "    <tr>\n",
       "      <th>3</th>\n",
       "      <td>2008</td>\n",
       "      <td>4</td>\n",
       "      <td>Latino</td>\n",
       "      <td>CO</td>\n",
       "      <td>6061</td>\n",
       "      <td>Placer</td>\n",
       "      <td>Placer</td>\n",
       "      <td>6061</td>\n",
       "      <td>Sacramento Area</td>\n",
       "      <td>8</td>\n",
       "      <td>1835</td>\n",
       "      <td>44710</td>\n",
       "      <td>0.041042</td>\n",
       "      <td>0.039203</td>\n",
       "      <td>0.042881</td>\n",
       "      <td>0.000938</td>\n",
       "      <td>2.286029</td>\n",
       "    </tr>\n",
       "    <tr>\n",
       "      <th>4</th>\n",
       "      <td>2008</td>\n",
       "      <td>7</td>\n",
       "      <td>Multiple</td>\n",
       "      <td>CO</td>\n",
       "      <td>6061</td>\n",
       "      <td>Placer</td>\n",
       "      <td>Placer</td>\n",
       "      <td>6061</td>\n",
       "      <td>Sacramento Area</td>\n",
       "      <td>8</td>\n",
       "      <td>241</td>\n",
       "      <td>10658</td>\n",
       "      <td>0.022612</td>\n",
       "      <td>0.019790</td>\n",
       "      <td>0.025435</td>\n",
       "      <td>0.001440</td>\n",
       "      <td>6.368321</td>\n",
       "    </tr>\n",
       "  </tbody>\n",
       "</table>\n",
       "</div>"
      ],
      "text/plain": [
       "   year  race_eth_code race_eth_name geotype  geotypevalue geoname  \\\n",
       "0  2008              3     AfricanAm      CO          6061  Placer   \n",
       "1  2008              1          AIAN      CO          6061  Placer   \n",
       "2  2008              2         Asian      CO          6061  Placer   \n",
       "3  2008              4        Latino      CO          6061  Placer   \n",
       "4  2008              7      Multiple      CO          6061  Placer   \n",
       "\n",
       "  county_name  county_fips      region_name  region_code  pop_trans_acc  \\\n",
       "0      Placer         6061  Sacramento Area            8             55   \n",
       "1      Placer         6061  Sacramento Area            8             51   \n",
       "2      Placer         6061  Sacramento Area            8            117   \n",
       "3      Placer         6061  Sacramento Area            8           1835   \n",
       "4      Placer         6061  Sacramento Area            8            241   \n",
       "\n",
       "   pop2010  p_trans_acc   LL_95CI   UL_95CI        se        rse  \n",
       "0     4427     0.012424  0.009161  0.015687  0.001665  13.399974  \n",
       "1     2080     0.024519  0.017873  0.031166  0.003391  13.830066  \n",
       "2    19963     0.005861  0.004802  0.006920  0.000540   9.217872  \n",
       "3    44710     0.041042  0.039203  0.042881  0.000938   2.286029  \n",
       "4    10658     0.022612  0.019790  0.025435  0.001440   6.368321  "
      ]
     },
     "execution_count": 2,
     "metadata": {},
     "output_type": "execute_result"
    }
   ],
   "source": [
    "# load tidied data and print rows\n",
    "data = pd.read_csv(\n",
    "    'tidy-data', \n",
    "    dtype = {'pop_trans_acc':'Int64',\n",
    "             'county_fips': 'Int64'},\n",
    "    index_col = 0)\n",
    "\n",
    "data.head()"
   ]
  },
  {
   "cell_type": "markdown",
   "metadata": {},
   "source": [
    "---\n",
    "## 2. Initial explorations\n",
    "\n",
    "At this stage, you may spend most of your effort on the computing side tidying up the data. You're not expected to complete a thorough exploratory analysis, and if your dataset was especially messy to start with, you may not even begin your exploratory analysis by the time you prepare this report. You have the option to leave exploration for the next stage of work and simply report basic properties of the dataset, but you should at minimum address the items in the 'basic properties' section below."
   ]
  },
  {
   "cell_type": "markdown",
   "metadata": {},
   "source": [
    "### Basic properties of the dataset\n",
    "\n",
    "Help the reader get acquainted with your dataset on a simple level by identifying characteristics of the dataset and variable summaries. Some amount of code is fine here, but try to use code cells sparingly.\n",
    "\n",
    "**Dimensions**: state the dimensions of the data (in tidy format, of course).\n",
    "\n",
    "**Missing values**: Are there missing values? If so, why are they missing?\n",
    "\n",
    "**Variable summaries**: Provide simple variable summaries for the most important variables in your dataset. Preferably, you'll do this for all variables, but if you have a large number, you might need to prioritize and focus on the ones most of interest. What exactly you do is a little case-specific, but think of things like means and variances, min/max, number of levels and observation counts for categorical variables, etc."
   ]
  },
  {
   "cell_type": "markdown",
   "metadata": {},
   "source": [
    "*Start your draft here.*"
   ]
  },
  {
   "cell_type": "markdown",
   "metadata": {},
   "source": [
    "### Code:"
   ]
  },
  {
   "cell_type": "markdown",
   "metadata": {},
   "source": [
    "**Dimensions**"
   ]
  },
  {
   "cell_type": "code",
   "execution_count": 3,
   "metadata": {},
   "outputs": [
    {
     "data": {
      "text/plain": [
       "(66006, 17)"
      ]
     },
     "execution_count": 3,
     "metadata": {},
     "output_type": "execute_result"
    }
   ],
   "source": [
    "data.shape"
   ]
  },
  {
   "cell_type": "markdown",
   "metadata": {},
   "source": [
    "**Missing values**"
   ]
  },
  {
   "cell_type": "code",
   "execution_count": 4,
   "metadata": {},
   "outputs": [
    {
     "data": {
      "text/plain": [
       "year                 0\n",
       "race_eth_code        0\n",
       "race_eth_name        0\n",
       "geotype              0\n",
       "geotypevalue         0\n",
       "geoname             54\n",
       "county_name         63\n",
       "county_fips         63\n",
       "region_name          0\n",
       "region_code          0\n",
       "pop_trans_acc     1182\n",
       "pop2010              0\n",
       "p_trans_acc       1557\n",
       "LL_95CI           1182\n",
       "UL_95CI           1557\n",
       "se                1182\n",
       "rse              14700\n",
       "dtype: int64"
      ]
     },
     "execution_count": 4,
     "metadata": {},
     "output_type": "execute_result"
    }
   ],
   "source": [
    "missing_values = data.isna().sum()\n",
    "missing_values"
   ]
  },
  {
   "cell_type": "markdown",
   "metadata": {},
   "source": [
    "**Variable summaries**"
   ]
  },
  {
   "cell_type": "code",
   "execution_count": 5,
   "metadata": {
    "scrolled": false
   },
   "outputs": [
    {
     "data": {
      "text/html": [
       "<div>\n",
       "<style scoped>\n",
       "    .dataframe tbody tr th:only-of-type {\n",
       "        vertical-align: middle;\n",
       "    }\n",
       "\n",
       "    .dataframe tbody tr th {\n",
       "        vertical-align: top;\n",
       "    }\n",
       "\n",
       "    .dataframe thead th {\n",
       "        text-align: right;\n",
       "    }\n",
       "</style>\n",
       "<table border=\"1\" class=\"dataframe\">\n",
       "  <thead>\n",
       "    <tr style=\"text-align: right;\">\n",
       "      <th></th>\n",
       "      <th></th>\n",
       "      <th>count</th>\n",
       "      <th>mean</th>\n",
       "      <th>std</th>\n",
       "      <th>min</th>\n",
       "      <th>25%</th>\n",
       "      <th>50%</th>\n",
       "      <th>75%</th>\n",
       "      <th>max</th>\n",
       "    </tr>\n",
       "    <tr>\n",
       "      <th>year</th>\n",
       "      <th>race_eth_name</th>\n",
       "      <th></th>\n",
       "      <th></th>\n",
       "      <th></th>\n",
       "      <th></th>\n",
       "      <th></th>\n",
       "      <th></th>\n",
       "      <th></th>\n",
       "      <th></th>\n",
       "    </tr>\n",
       "  </thead>\n",
       "  <tbody>\n",
       "    <tr>\n",
       "      <th rowspan=\"9\" valign=\"top\">2008</th>\n",
       "      <th>AIAN</th>\n",
       "      <td>512.0</td>\n",
       "      <td>0.172234</td>\n",
       "      <td>0.324438</td>\n",
       "      <td>0.0</td>\n",
       "      <td>0.0</td>\n",
       "      <td>0.000000</td>\n",
       "      <td>0.167342</td>\n",
       "      <td>1.0</td>\n",
       "    </tr>\n",
       "    <tr>\n",
       "      <th>AfricanAm</th>\n",
       "      <td>510.0</td>\n",
       "      <td>0.176581</td>\n",
       "      <td>0.325833</td>\n",
       "      <td>0.0</td>\n",
       "      <td>0.0</td>\n",
       "      <td>0.000000</td>\n",
       "      <td>0.200796</td>\n",
       "      <td>1.0</td>\n",
       "    </tr>\n",
       "    <tr>\n",
       "      <th>Asian</th>\n",
       "      <td>515.0</td>\n",
       "      <td>0.170510</td>\n",
       "      <td>0.321131</td>\n",
       "      <td>0.0</td>\n",
       "      <td>0.0</td>\n",
       "      <td>0.000000</td>\n",
       "      <td>0.114129</td>\n",
       "      <td>1.0</td>\n",
       "    </tr>\n",
       "    <tr>\n",
       "      <th>Latino</th>\n",
       "      <td>516.0</td>\n",
       "      <td>0.171872</td>\n",
       "      <td>0.317324</td>\n",
       "      <td>0.0</td>\n",
       "      <td>0.0</td>\n",
       "      <td>0.000000</td>\n",
       "      <td>0.190291</td>\n",
       "      <td>1.0</td>\n",
       "    </tr>\n",
       "    <tr>\n",
       "      <th>Multiple</th>\n",
       "      <td>515.0</td>\n",
       "      <td>0.172559</td>\n",
       "      <td>0.318749</td>\n",
       "      <td>0.0</td>\n",
       "      <td>0.0</td>\n",
       "      <td>0.000000</td>\n",
       "      <td>0.189566</td>\n",
       "      <td>1.0</td>\n",
       "    </tr>\n",
       "    <tr>\n",
       "      <th>NHOPI</th>\n",
       "      <td>492.0</td>\n",
       "      <td>0.178389</td>\n",
       "      <td>0.333260</td>\n",
       "      <td>0.0</td>\n",
       "      <td>0.0</td>\n",
       "      <td>0.000000</td>\n",
       "      <td>0.166667</td>\n",
       "      <td>1.0</td>\n",
       "    </tr>\n",
       "    <tr>\n",
       "      <th>Other</th>\n",
       "      <td>481.0</td>\n",
       "      <td>0.171500</td>\n",
       "      <td>0.333844</td>\n",
       "      <td>0.0</td>\n",
       "      <td>0.0</td>\n",
       "      <td>0.000000</td>\n",
       "      <td>0.055556</td>\n",
       "      <td>1.0</td>\n",
       "    </tr>\n",
       "    <tr>\n",
       "      <th>Total</th>\n",
       "      <td>517.0</td>\n",
       "      <td>0.169488</td>\n",
       "      <td>0.314589</td>\n",
       "      <td>0.0</td>\n",
       "      <td>0.0</td>\n",
       "      <td>0.000000</td>\n",
       "      <td>0.169238</td>\n",
       "      <td>1.0</td>\n",
       "    </tr>\n",
       "    <tr>\n",
       "      <th>White</th>\n",
       "      <td>517.0</td>\n",
       "      <td>0.169520</td>\n",
       "      <td>0.315144</td>\n",
       "      <td>0.0</td>\n",
       "      <td>0.0</td>\n",
       "      <td>0.000000</td>\n",
       "      <td>0.171211</td>\n",
       "      <td>1.0</td>\n",
       "    </tr>\n",
       "    <tr>\n",
       "      <th rowspan=\"9\" valign=\"top\">2012</th>\n",
       "      <th>AIAN</th>\n",
       "      <td>6574.0</td>\n",
       "      <td>0.405059</td>\n",
       "      <td>0.454376</td>\n",
       "      <td>0.0</td>\n",
       "      <td>0.0</td>\n",
       "      <td>0.009802</td>\n",
       "      <td>1.000000</td>\n",
       "      <td>1.0</td>\n",
       "    </tr>\n",
       "    <tr>\n",
       "      <th>AfricanAm</th>\n",
       "      <td>6765.0</td>\n",
       "      <td>0.410284</td>\n",
       "      <td>0.447231</td>\n",
       "      <td>0.0</td>\n",
       "      <td>0.0</td>\n",
       "      <td>0.126056</td>\n",
       "      <td>1.000000</td>\n",
       "      <td>1.0</td>\n",
       "    </tr>\n",
       "    <tr>\n",
       "      <th>Asian</th>\n",
       "      <td>6764.0</td>\n",
       "      <td>0.404278</td>\n",
       "      <td>0.443228</td>\n",
       "      <td>0.0</td>\n",
       "      <td>0.0</td>\n",
       "      <td>0.124739</td>\n",
       "      <td>1.000000</td>\n",
       "      <td>1.0</td>\n",
       "    </tr>\n",
       "    <tr>\n",
       "      <th>Latino</th>\n",
       "      <td>6787.0</td>\n",
       "      <td>0.410423</td>\n",
       "      <td>0.443599</td>\n",
       "      <td>0.0</td>\n",
       "      <td>0.0</td>\n",
       "      <td>0.157895</td>\n",
       "      <td>0.994902</td>\n",
       "      <td>1.0</td>\n",
       "    </tr>\n",
       "    <tr>\n",
       "      <th>Multiple</th>\n",
       "      <td>6764.0</td>\n",
       "      <td>0.403609</td>\n",
       "      <td>0.442866</td>\n",
       "      <td>0.0</td>\n",
       "      <td>0.0</td>\n",
       "      <td>0.131149</td>\n",
       "      <td>1.000000</td>\n",
       "      <td>1.0</td>\n",
       "    </tr>\n",
       "    <tr>\n",
       "      <th>NHOPI</th>\n",
       "      <td>6130.0</td>\n",
       "      <td>0.395384</td>\n",
       "      <td>0.453720</td>\n",
       "      <td>0.0</td>\n",
       "      <td>0.0</td>\n",
       "      <td>0.000000</td>\n",
       "      <td>1.000000</td>\n",
       "      <td>1.0</td>\n",
       "    </tr>\n",
       "    <tr>\n",
       "      <th>Other</th>\n",
       "      <td>6507.0</td>\n",
       "      <td>0.409362</td>\n",
       "      <td>0.455469</td>\n",
       "      <td>0.0</td>\n",
       "      <td>0.0</td>\n",
       "      <td>0.006711</td>\n",
       "      <td>1.000000</td>\n",
       "      <td>1.0</td>\n",
       "    </tr>\n",
       "    <tr>\n",
       "      <th>Total</th>\n",
       "      <td>6792.0</td>\n",
       "      <td>0.404664</td>\n",
       "      <td>0.441007</td>\n",
       "      <td>0.0</td>\n",
       "      <td>0.0</td>\n",
       "      <td>0.151030</td>\n",
       "      <td>0.992508</td>\n",
       "      <td>1.0</td>\n",
       "    </tr>\n",
       "    <tr>\n",
       "      <th>White</th>\n",
       "      <td>6791.0</td>\n",
       "      <td>0.399587</td>\n",
       "      <td>0.440251</td>\n",
       "      <td>0.0</td>\n",
       "      <td>0.0</td>\n",
       "      <td>0.131953</td>\n",
       "      <td>0.992926</td>\n",
       "      <td>1.0</td>\n",
       "    </tr>\n",
       "  </tbody>\n",
       "</table>\n",
       "</div>"
      ],
      "text/plain": [
       "                     count      mean       std  min  25%       50%       75%  \\\n",
       "year race_eth_name                                                             \n",
       "2008 AIAN            512.0  0.172234  0.324438  0.0  0.0  0.000000  0.167342   \n",
       "     AfricanAm       510.0  0.176581  0.325833  0.0  0.0  0.000000  0.200796   \n",
       "     Asian           515.0  0.170510  0.321131  0.0  0.0  0.000000  0.114129   \n",
       "     Latino          516.0  0.171872  0.317324  0.0  0.0  0.000000  0.190291   \n",
       "     Multiple        515.0  0.172559  0.318749  0.0  0.0  0.000000  0.189566   \n",
       "     NHOPI           492.0  0.178389  0.333260  0.0  0.0  0.000000  0.166667   \n",
       "     Other           481.0  0.171500  0.333844  0.0  0.0  0.000000  0.055556   \n",
       "     Total           517.0  0.169488  0.314589  0.0  0.0  0.000000  0.169238   \n",
       "     White           517.0  0.169520  0.315144  0.0  0.0  0.000000  0.171211   \n",
       "2012 AIAN           6574.0  0.405059  0.454376  0.0  0.0  0.009802  1.000000   \n",
       "     AfricanAm      6765.0  0.410284  0.447231  0.0  0.0  0.126056  1.000000   \n",
       "     Asian          6764.0  0.404278  0.443228  0.0  0.0  0.124739  1.000000   \n",
       "     Latino         6787.0  0.410423  0.443599  0.0  0.0  0.157895  0.994902   \n",
       "     Multiple       6764.0  0.403609  0.442866  0.0  0.0  0.131149  1.000000   \n",
       "     NHOPI          6130.0  0.395384  0.453720  0.0  0.0  0.000000  1.000000   \n",
       "     Other          6507.0  0.409362  0.455469  0.0  0.0  0.006711  1.000000   \n",
       "     Total          6792.0  0.404664  0.441007  0.0  0.0  0.151030  0.992508   \n",
       "     White          6791.0  0.399587  0.440251  0.0  0.0  0.131953  0.992926   \n",
       "\n",
       "                    max  \n",
       "year race_eth_name       \n",
       "2008 AIAN           1.0  \n",
       "     AfricanAm      1.0  \n",
       "     Asian          1.0  \n",
       "     Latino         1.0  \n",
       "     Multiple       1.0  \n",
       "     NHOPI          1.0  \n",
       "     Other          1.0  \n",
       "     Total          1.0  \n",
       "     White          1.0  \n",
       "2012 AIAN           1.0  \n",
       "     AfricanAm      1.0  \n",
       "     Asian          1.0  \n",
       "     Latino         1.0  \n",
       "     Multiple       1.0  \n",
       "     NHOPI          1.0  \n",
       "     Other          1.0  \n",
       "     Total          1.0  \n",
       "     White          1.0  "
      ]
     },
     "execution_count": 5,
     "metadata": {},
     "output_type": "execute_result"
    }
   ],
   "source": [
    "# summary statistics of percent of residents that live within 1/2 mile of public transportation \n",
    "# according to race/ethnicity grouped by year\n",
    "data.groupby(['year', 'race_eth_name']).p_trans_acc.describe()"
   ]
  },
  {
   "cell_type": "code",
   "execution_count": 6,
   "metadata": {
    "scrolled": false
   },
   "outputs": [
    {
     "data": {
      "text/plain": [
       "year  race_eth_name\n",
       "2008  AIAN              518\n",
       "      AfricanAm         518\n",
       "      Asian             518\n",
       "      Latino            518\n",
       "      Multiple          518\n",
       "      NHOPI             518\n",
       "      Other             518\n",
       "      Total             518\n",
       "      White             518\n",
       "2012  AIAN             6816\n",
       "      AfricanAm        6816\n",
       "      Asian            6816\n",
       "      Latino           6816\n",
       "      Multiple         6816\n",
       "      NHOPI            6816\n",
       "      Other            6816\n",
       "      Total            6816\n",
       "      White            6816\n",
       "Name: race_eth_name, dtype: int64"
      ]
     },
     "execution_count": 6,
     "metadata": {},
     "output_type": "execute_result"
    }
   ],
   "source": [
    "# value counts of races/ethnicities\n",
    "data.groupby('year').race_eth_name.value_counts()"
   ]
  },
  {
   "cell_type": "code",
   "execution_count": 7,
   "metadata": {
    "scrolled": false
   },
   "outputs": [
    {
     "data": {
      "text/plain": [
       "year  geotype\n",
       "2008  CT          3987\n",
       "      PL           639\n",
       "      CO            27\n",
       "      RE             9\n",
       "2012  CT         55548\n",
       "      PL          5634\n",
       "      CO           144\n",
       "      RE            18\n",
       "Name: geotype, dtype: int64"
      ]
     },
     "execution_count": 7,
     "metadata": {},
     "output_type": "execute_result"
    }
   ],
   "source": [
    "# value counts of level of geography\n",
    "data.groupby('year').geotype.value_counts()"
   ]
  },
  {
   "cell_type": "code",
   "execution_count": 8,
   "metadata": {
    "scrolled": false
   },
   "outputs": [
    {
     "data": {
      "text/plain": [
       "year  county_name   \n",
       "2008  Sacramento         3177\n",
       "      Placer              954\n",
       "      Yolo                495\n",
       "2012  Los Angeles       22392\n",
       "      San Diego          6138\n",
       "      Orange             5625\n",
       "      Riverside          4797\n",
       "      San Bernardino     3789\n",
       "      Santa Clara        3573\n",
       "      Alameda            3438\n",
       "      Contra Costa       2358\n",
       "      San Francisco      1791\n",
       "      Ventura            1782\n",
       "      San Mateo          1719\n",
       "      Sonoma             1242\n",
       "      Solano              972\n",
       "      Marin               792\n",
       "      Napa                468\n",
       "      Imperial            441\n",
       "Name: county_name, dtype: int64"
      ]
     },
     "execution_count": 8,
     "metadata": {},
     "output_type": "execute_result"
    }
   ],
   "source": [
    "# value counts of counties\n",
    "data.groupby('year').county_name.value_counts()"
   ]
  },
  {
   "cell_type": "markdown",
   "metadata": {},
   "source": [
    "### Exploratory analysis\n",
    "\n",
    "If you were lucky and your dataset was neat, you should aim to include a few exploratory plots or tables here -- they don't need to be polished at this stage, but you should select plots that are informative (rather than including all plots you may have looked at). \n",
    "\n",
    "If you do include exploratory graphics or tables, please explain in a sentence or two what each one shows. Try to include a minimum of code. Consider [saving your plots as images](https://altair-viz.github.io/user_guide/saving_charts.html#png-svg-and-pdf-format) and inputting images into markdown cells instead of generating them anew via code cells."
   ]
  },
  {
   "cell_type": "code",
   "execution_count": 9,
   "metadata": {
    "scrolled": false
   },
   "outputs": [
    {
     "data": {
      "text/html": [
       "\n",
       "<div id=\"altair-viz-ce07ae57c0da4ae89072b44d73610fea\"></div>\n",
       "<script type=\"text/javascript\">\n",
       "  var VEGA_DEBUG = (typeof VEGA_DEBUG == \"undefined\") ? {} : VEGA_DEBUG;\n",
       "  (function(spec, embedOpt){\n",
       "    let outputDiv = document.currentScript.previousElementSibling;\n",
       "    if (outputDiv.id !== \"altair-viz-ce07ae57c0da4ae89072b44d73610fea\") {\n",
       "      outputDiv = document.getElementById(\"altair-viz-ce07ae57c0da4ae89072b44d73610fea\");\n",
       "    }\n",
       "    const paths = {\n",
       "      \"vega\": \"https://cdn.jsdelivr.net/npm//vega@5?noext\",\n",
       "      \"vega-lib\": \"https://cdn.jsdelivr.net/npm//vega-lib?noext\",\n",
       "      \"vega-lite\": \"https://cdn.jsdelivr.net/npm//vega-lite@4.17.0?noext\",\n",
       "      \"vega-embed\": \"https://cdn.jsdelivr.net/npm//vega-embed@6?noext\",\n",
       "    };\n",
       "\n",
       "    function maybeLoadScript(lib, version) {\n",
       "      var key = `${lib.replace(\"-\", \"\")}_version`;\n",
       "      return (VEGA_DEBUG[key] == version) ?\n",
       "        Promise.resolve(paths[lib]) :\n",
       "        new Promise(function(resolve, reject) {\n",
       "          var s = document.createElement('script');\n",
       "          document.getElementsByTagName(\"head\")[0].appendChild(s);\n",
       "          s.async = true;\n",
       "          s.onload = () => {\n",
       "            VEGA_DEBUG[key] = version;\n",
       "            return resolve(paths[lib]);\n",
       "          };\n",
       "          s.onerror = () => reject(`Error loading script: ${paths[lib]}`);\n",
       "          s.src = paths[lib];\n",
       "        });\n",
       "    }\n",
       "\n",
       "    function showError(err) {\n",
       "      outputDiv.innerHTML = `<div class=\"error\" style=\"color:red;\">${err}</div>`;\n",
       "      throw err;\n",
       "    }\n",
       "\n",
       "    function displayChart(vegaEmbed) {\n",
       "      vegaEmbed(outputDiv, spec, embedOpt)\n",
       "        .catch(err => showError(`Javascript Error: ${err.message}<br>This usually means there's a typo in your chart specification. See the javascript console for the full traceback.`));\n",
       "    }\n",
       "\n",
       "    if(typeof define === \"function\" && define.amd) {\n",
       "      requirejs.config({paths});\n",
       "      require([\"vega-embed\"], displayChart, err => showError(`Error loading script: ${err.message}`));\n",
       "    } else {\n",
       "      maybeLoadScript(\"vega\", \"5\")\n",
       "        .then(() => maybeLoadScript(\"vega-lite\", \"4.17.0\"))\n",
       "        .then(() => maybeLoadScript(\"vega-embed\", \"6\"))\n",
       "        .catch(showError)\n",
       "        .then(() => displayChart(vegaEmbed));\n",
       "    }\n",
       "  })({\"config\": {\"view\": {\"continuousWidth\": 400, \"continuousHeight\": 300}}, \"data\": {\"url\": \"altair-data-3c867a5a4aedba9c0ff0bc2a7f483a94.json\", \"format\": {\"type\": \"json\"}}, \"facet\": {\"column\": {\"field\": \"year\", \"type\": \"quantitative\"}}, \"spec\": {\"mark\": \"bar\", \"encoding\": {\"x\": {\"field\": \"race_eth_name\", \"title\": \"\", \"type\": \"nominal\"}, \"y\": {\"aggregate\": \"mean\", \"field\": \"p_trans_acc\", \"title\": \"Mean Percentage of Public Transportation Access\", \"type\": \"quantitative\"}}, \"height\": 300, \"width\": 200}, \"$schema\": \"https://vega.github.io/schema/vega-lite/v4.17.0.json\"}, {\"mode\": \"vega-lite\"});\n",
       "</script>"
      ],
      "text/plain": [
       "alt.FacetChart(...)"
      ]
     },
     "execution_count": 9,
     "metadata": {},
     "output_type": "execute_result"
    }
   ],
   "source": [
    "alt.data_transformers.enable('json')\n",
    "alt.Chart(data).mark_bar().encode(\n",
    "    x = alt.X('race_eth_name', title = ''), \n",
    "    y = alt.Y('mean(p_trans_acc)', \n",
    "              title = 'Mean Percentage of Public Transportation Access')\n",
    ").properties(\n",
    "    width = 200,\n",
    "    height = 300\n",
    ").facet(\n",
    "    column = 'year'\n",
    ")"
   ]
  },
  {
   "cell_type": "markdown",
   "metadata": {},
   "source": [
    "The bar charts compare the mean percentage of residents that live within 1/2 mile of public transportation across different race/ethnicity groups, with separations comparisons for data corresponding to 2008 and 2012. "
   ]
  },
  {
   "cell_type": "code",
   "execution_count": 10,
   "metadata": {
    "scrolled": false
   },
   "outputs": [
    {
     "data": {
      "text/html": [
       "\n",
       "<div id=\"altair-viz-16a57d59058b44ec8f2c5b377142d9bd\"></div>\n",
       "<script type=\"text/javascript\">\n",
       "  var VEGA_DEBUG = (typeof VEGA_DEBUG == \"undefined\") ? {} : VEGA_DEBUG;\n",
       "  (function(spec, embedOpt){\n",
       "    let outputDiv = document.currentScript.previousElementSibling;\n",
       "    if (outputDiv.id !== \"altair-viz-16a57d59058b44ec8f2c5b377142d9bd\") {\n",
       "      outputDiv = document.getElementById(\"altair-viz-16a57d59058b44ec8f2c5b377142d9bd\");\n",
       "    }\n",
       "    const paths = {\n",
       "      \"vega\": \"https://cdn.jsdelivr.net/npm//vega@5?noext\",\n",
       "      \"vega-lib\": \"https://cdn.jsdelivr.net/npm//vega-lib?noext\",\n",
       "      \"vega-lite\": \"https://cdn.jsdelivr.net/npm//vega-lite@4.17.0?noext\",\n",
       "      \"vega-embed\": \"https://cdn.jsdelivr.net/npm//vega-embed@6?noext\",\n",
       "    };\n",
       "\n",
       "    function maybeLoadScript(lib, version) {\n",
       "      var key = `${lib.replace(\"-\", \"\")}_version`;\n",
       "      return (VEGA_DEBUG[key] == version) ?\n",
       "        Promise.resolve(paths[lib]) :\n",
       "        new Promise(function(resolve, reject) {\n",
       "          var s = document.createElement('script');\n",
       "          document.getElementsByTagName(\"head\")[0].appendChild(s);\n",
       "          s.async = true;\n",
       "          s.onload = () => {\n",
       "            VEGA_DEBUG[key] = version;\n",
       "            return resolve(paths[lib]);\n",
       "          };\n",
       "          s.onerror = () => reject(`Error loading script: ${paths[lib]}`);\n",
       "          s.src = paths[lib];\n",
       "        });\n",
       "    }\n",
       "\n",
       "    function showError(err) {\n",
       "      outputDiv.innerHTML = `<div class=\"error\" style=\"color:red;\">${err}</div>`;\n",
       "      throw err;\n",
       "    }\n",
       "\n",
       "    function displayChart(vegaEmbed) {\n",
       "      vegaEmbed(outputDiv, spec, embedOpt)\n",
       "        .catch(err => showError(`Javascript Error: ${err.message}<br>This usually means there's a typo in your chart specification. See the javascript console for the full traceback.`));\n",
       "    }\n",
       "\n",
       "    if(typeof define === \"function\" && define.amd) {\n",
       "      requirejs.config({paths});\n",
       "      require([\"vega-embed\"], displayChart, err => showError(`Error loading script: ${err.message}`));\n",
       "    } else {\n",
       "      maybeLoadScript(\"vega\", \"5\")\n",
       "        .then(() => maybeLoadScript(\"vega-lite\", \"4.17.0\"))\n",
       "        .then(() => maybeLoadScript(\"vega-embed\", \"6\"))\n",
       "        .catch(showError)\n",
       "        .then(() => displayChart(vegaEmbed));\n",
       "    }\n",
       "  })({\"config\": {\"view\": {\"continuousWidth\": 400, \"continuousHeight\": 300}}, \"data\": {\"url\": \"altair-data-3c867a5a4aedba9c0ff0bc2a7f483a94.json\", \"format\": {\"type\": \"json\"}}, \"facet\": {\"column\": {\"field\": \"year\", \"type\": \"quantitative\"}}, \"spec\": {\"mark\": \"bar\", \"encoding\": {\"x\": {\"field\": \"geotype\", \"title\": \"\", \"type\": \"nominal\"}, \"y\": {\"aggregate\": \"mean\", \"field\": \"p_trans_acc\", \"title\": \"Mean Percentage of Public Transportation Access\", \"type\": \"quantitative\"}}, \"height\": 300, \"width\": 200}, \"$schema\": \"https://vega.github.io/schema/vega-lite/v4.17.0.json\"}, {\"mode\": \"vega-lite\"});\n",
       "</script>"
      ],
      "text/plain": [
       "alt.FacetChart(...)"
      ]
     },
     "execution_count": 10,
     "metadata": {},
     "output_type": "execute_result"
    }
   ],
   "source": [
    "alt.data_transformers.enable('json')\n",
    "alt.Chart(data).mark_bar().encode(\n",
    "    x = alt.X('geotype', title = ''), \n",
    "    y = alt.Y('mean(p_trans_acc)', \n",
    "              title = 'Mean Percentage of Public Transportation Access')\n",
    ").properties(\n",
    "    width = 200,\n",
    "    height = 300\n",
    ").facet(\n",
    "    column = 'year'\n",
    ")"
   ]
  },
  {
   "cell_type": "markdown",
   "metadata": {},
   "source": [
    "The bar charts compare the mean percentage of residents that live within 1/2 mile of public transportation across different levels of geography, with separations comparisons for data corresponding to 2008 and 2012. "
   ]
  },
  {
   "cell_type": "markdown",
   "metadata": {},
   "source": [
    "---\n",
    "## 3. Planned work\n",
    "\n",
    "Here you should indicate your tentative ideas for your analysis. Don't worry, these aren't final -- you can always change your mind later or shift gears if they don't pan out. The objective is to have you start thinking ahead about what you'll do."
   ]
  },
  {
   "cell_type": "markdown",
   "metadata": {},
   "source": [
    "### Questions\n",
    "\n",
    "Please propose two focused questions that you plan to explore.\n",
    "\n",
    "1. Has access to public transportation improved from 2008 to 2012?\n",
    "2. Does access to public transportation significantly differ across race / ethnicity groups?"
   ]
  },
  {
   "cell_type": "markdown",
   "metadata": {},
   "source": [
    "### Proposed approaches\n",
    "\n",
    "For each question, please describe an idea or two about how you might approach the question.\n",
    "\n",
    "1. *Approach 1 here* \n",
    "2. *Approach 2 here*"
   ]
  },
  {
   "cell_type": "markdown",
   "metadata": {
    "tags": []
   },
   "source": [
    "---\n",
    "## Submission Checklist\n",
    "1. Save file to confirm all changes are on disk\n",
    "2. Run *Kernel > Restart & Run All* to execute all code from top to bottom\n",
    "3. Save file again to write any new output to disk\n",
    "4. Generate PDF and submit to Gradescope"
   ]
  }
 ],
 "metadata": {
  "kernelspec": {
   "display_name": "Python 3 (ipykernel)",
   "language": "python",
   "name": "python3"
  },
  "language_info": {
   "codemirror_mode": {
    "name": "ipython",
    "version": 3
   },
   "file_extension": ".py",
   "mimetype": "text/x-python",
   "name": "python",
   "nbconvert_exporter": "python",
   "pygments_lexer": "ipython3",
   "version": "3.9.12"
  }
 },
 "nbformat": 4,
 "nbformat_minor": 4
}
